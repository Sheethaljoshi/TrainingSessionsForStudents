{
  "nbformat": 4,
  "nbformat_minor": 0,
  "metadata": {
    "colab": {
      "provenance": [],
      "include_colab_link": true
    },
    "kernelspec": {
      "name": "python3",
      "display_name": "Python 3"
    },
    "language_info": {
      "name": "python"
    }
  },
  "cells": [
    {
      "cell_type": "markdown",
      "metadata": {
        "id": "view-in-github",
        "colab_type": "text"
      },
      "source": [
        "<a href=\"https://colab.research.google.com/github/Sheethaljoshi/TrainingSessionsForStudents/blob/main/LinearRegressionAssignment.ipynb\" target=\"_parent\"><img src=\"https://colab.research.google.com/assets/colab-badge.svg\" alt=\"Open In Colab\"/></a>"
      ]
    },
    {
      "cell_type": "code",
      "source": [
        "\n",
        "import numpy as np\n",
        "import matplotlib.pyplot as plt\n",
        "import pandas as pd"
      ],
      "metadata": {
        "id": "guX4RsuTq-YJ"
      },
      "execution_count": 1,
      "outputs": []
    },
    {
      "cell_type": "code",
      "source": [
        "def estimate_coef(x, y):\n",
        "    \"\"\"\n",
        "    Calculates the coefficients of the simple linear regression model.\n",
        "\n",
        "    Args:\n",
        "        x: Independent variable (features).\n",
        "        y: Dependent variable (target).\n",
        "\n",
        "    Returns:\n",
        "        A tuple containing the intercept (b0) and slope (b1) of the regression line.\n",
        "    \"\"\"\n",
        "    n = np.size(x)\n",
        "    m_x, m_y = np.mean(x), np.mean(y)\n",
        "\n",
        "    SS_xy = np.sum(y * x) - n * m_y * m_x\n",
        "    SS_xx = np.sum(x * x) - n * m_x * m_x\n",
        "\n",
        "    b_1 = SS_xy / SS_xx\n",
        "    b_0 = m_y - b_1 * m_x\n",
        "\n",
        "    return (b_0, b_1)"
      ],
      "metadata": {
        "id": "BOlrF7ZTq_Xw"
      },
      "execution_count": 2,
      "outputs": []
    },
    {
      "cell_type": "code",
      "source": [
        "def plot_regression_line(x, y, b):\n",
        "    \"\"\"\n",
        "    Plots the actual data points and the regression line.\n",
        "\n",
        "    Args:\n",
        "        x: Independent variable (features).\n",
        "        y: Dependent variable (target).\n",
        "        b: A tuple containing the intercept (b0) and slope (b1) of the regression line.\n",
        "    \"\"\"\n",
        "    plt.scatter(x, y, color=\"m\", marker=\"s\", s=20) #s means size, marker is shape of point\n",
        "\n",
        "    y_pred = b[0] + b[1] * x\n",
        "\n",
        "    plt.plot(x, y_pred, color=\"g\")\n",
        "\n",
        "    plt.xlabel('x')\n",
        "    plt.ylabel('y')\n",
        "\n",
        "    plt.show()\n"
      ],
      "metadata": {
        "id": "9Nhu_7QJrDmY"
      },
      "execution_count": 7,
      "outputs": []
    },
    {
      "cell_type": "code",
      "source": [
        "def main():\n",
        "    # New sample data\n",
        "    x = np.array([2, 4, 6, 8, 10, 12, 14, 16, 18, 20])\n",
        "    y = np.array([5, 7, 9, 13, 15, 17, 19, 22, 24, 26])\n",
        "\n",
        "    # Estimate coefficients\n",
        "    b = estimate_coef(x, y)\n",
        "    print(\"Estimated coefficients:\\nb_0 = {} \\nb_1 = {}\".format(b[0], b[1]))\n",
        "\n",
        "    # Plot the regression line\n",
        "    plot_regression_line(x, y, b)\n",
        "\n",
        "if __name__ == \"__main__\":\n",
        "    main()\n"
      ],
      "metadata": {
        "colab": {
          "base_uri": "https://localhost:8080/",
          "height": 501
        },
        "id": "JX_618D1rIXg",
        "outputId": "ee3d9ba3-c742-40d7-cc83-1b4da02aaa66"
      },
      "execution_count": 8,
      "outputs": [
        {
          "output_type": "stream",
          "name": "stdout",
          "text": [
            "Estimated coefficients:\n",
            "b_0 = 2.5999999999999996 \n",
            "b_1 = 1.190909090909091\n"
          ]
        },
        {
          "output_type": "display_data",
          "data": {
            "text/plain": [
              "<Figure size 640x480 with 1 Axes>"
            ],
            "image/png": "[encoded data removed]"
          },
          "metadata": {}
        }
      ]
    }
  ]
}